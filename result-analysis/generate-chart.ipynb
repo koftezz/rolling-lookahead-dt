{
 "cells": [
  {
   "cell_type": "code",
   "execution_count": 1,
   "id": "aedb587c-ac8f-4759-b5dc-a57bed560021",
   "metadata": {},
   "outputs": [],
   "source": [
    "import os\n",
    "import json\n",
    "import re\n",
    "import pandas as pd\n",
    "import matplotlib.pyplot as plt\n",
    "from collections import defaultdict\n",
    "\n",
    "folder = \"./misclassification-details\" \n",
    "\n",
    "output_folder = \"./output\"\n",
    "os.makedirs(output_folder, exist_ok=True)"
   ]
  },
  {
   "cell_type": "code",
   "execution_count": 6,
   "id": "44307102-285b-4ac8-b781-c6dc9ea775a0",
   "metadata": {},
   "outputs": [
    {
     "name": "stdout",
     "output_type": "stream",
     "text": [
      "Processing wdbc_test_mcart_fold=3_depth=6...\n"
     ]
    },
    {
     "name": "stderr",
     "output_type": "stream",
     "text": [
      "/var/folders/yb/pgxzqswx3ls408fy2w7vlkmw0000gn/T/ipykernel_4755/3955102736.py:90: UserWarning: Tight layout not applied. The left and right margins cannot be made large enough to accommodate all axes decorations.\n",
      "  plt.tight_layout()\n",
      "/var/folders/yb/pgxzqswx3ls408fy2w7vlkmw0000gn/T/ipykernel_4755/3955102736.py:90: UserWarning: Tight layout not applied. The left and right margins cannot be made large enough to accommodate all axes decorations.\n",
      "  plt.tight_layout()\n"
     ]
    },
    {
     "name": "stdout",
     "output_type": "stream",
     "text": [
      "Processing wdbc_test_mcart_fold=1_depth=3...\n",
      "Processing wine_test_mcart_fold=10_depth=5...\n"
     ]
    },
    {
     "name": "stderr",
     "output_type": "stream",
     "text": [
      "/var/folders/yb/pgxzqswx3ls408fy2w7vlkmw0000gn/T/ipykernel_4755/3955102736.py:90: UserWarning: Tight layout not applied. The left and right margins cannot be made large enough to accommodate all axes decorations.\n",
      "  plt.tight_layout()\n",
      "/var/folders/yb/pgxzqswx3ls408fy2w7vlkmw0000gn/T/ipykernel_4755/3955102736.py:90: UserWarning: Tight layout not applied. The left and right margins cannot be made large enough to accommodate all axes decorations.\n",
      "  plt.tight_layout()\n"
     ]
    },
    {
     "name": "stdout",
     "output_type": "stream",
     "text": [
      "Processing wdbc_test_mcart_fold=6_depth=3...\n",
      "Processing wine_test_mcart_fold=3_depth=7...\n"
     ]
    },
    {
     "name": "stderr",
     "output_type": "stream",
     "text": [
      "/var/folders/yb/pgxzqswx3ls408fy2w7vlkmw0000gn/T/ipykernel_4755/3955102736.py:90: UserWarning: Tight layout not applied. The left and right margins cannot be made large enough to accommodate all axes decorations.\n",
      "  plt.tight_layout()\n"
     ]
    },
    {
     "name": "stdout",
     "output_type": "stream",
     "text": [
      "Processing wine_test_mcart_fold=6_depth=8...\n"
     ]
    },
    {
     "name": "stderr",
     "output_type": "stream",
     "text": [
      "/var/folders/yb/pgxzqswx3ls408fy2w7vlkmw0000gn/T/ipykernel_4755/3955102736.py:90: UserWarning: Tight layout not applied. The left and right margins cannot be made large enough to accommodate all axes decorations.\n",
      "  plt.tight_layout()\n"
     ]
    },
    {
     "name": "stdout",
     "output_type": "stream",
     "text": [
      "Processing wdbc_test_mcart_fold=10_depth=3...\n",
      "Processing wine_test_mcart_fold=2_depth=6...\n"
     ]
    },
    {
     "name": "stderr",
     "output_type": "stream",
     "text": [
      "/var/folders/yb/pgxzqswx3ls408fy2w7vlkmw0000gn/T/ipykernel_4755/3955102736.py:90: UserWarning: Tight layout not applied. The left and right margins cannot be made large enough to accommodate all axes decorations.\n",
      "  plt.tight_layout()\n",
      "/var/folders/yb/pgxzqswx3ls408fy2w7vlkmw0000gn/T/ipykernel_4755/3955102736.py:90: UserWarning: Tight layout not applied. The left and right margins cannot be made large enough to accommodate all axes decorations.\n",
      "  plt.tight_layout()\n"
     ]
    },
    {
     "name": "stdout",
     "output_type": "stream",
     "text": [
      "Processing wine_test_mcart_fold=5_depth=6...\n"
     ]
    },
    {
     "name": "stderr",
     "output_type": "stream",
     "text": [
      "/var/folders/yb/pgxzqswx3ls408fy2w7vlkmw0000gn/T/ipykernel_4755/3955102736.py:90: UserWarning: Tight layout not applied. The left and right margins cannot be made large enough to accommodate all axes decorations.\n",
      "  plt.tight_layout()\n"
     ]
    },
    {
     "name": "stdout",
     "output_type": "stream",
     "text": [
      "Processing wine_test_mcart_fold=5_depth=7...\n"
     ]
    },
    {
     "name": "stderr",
     "output_type": "stream",
     "text": [
      "/var/folders/yb/pgxzqswx3ls408fy2w7vlkmw0000gn/T/ipykernel_4755/3955102736.py:90: UserWarning: Tight layout not applied. The left and right margins cannot be made large enough to accommodate all axes decorations.\n",
      "  plt.tight_layout()\n"
     ]
    },
    {
     "name": "stdout",
     "output_type": "stream",
     "text": [
      "Processing wine_test_mcart_fold=2_depth=7...\n"
     ]
    },
    {
     "name": "stderr",
     "output_type": "stream",
     "text": [
      "/var/folders/yb/pgxzqswx3ls408fy2w7vlkmw0000gn/T/ipykernel_4755/3955102736.py:90: UserWarning: Tight layout not applied. The left and right margins cannot be made large enough to accommodate all axes decorations.\n",
      "  plt.tight_layout()\n",
      "/var/folders/yb/pgxzqswx3ls408fy2w7vlkmw0000gn/T/ipykernel_4755/3955102736.py:90: UserWarning: Tight layout not applied. The left and right margins cannot be made large enough to accommodate all axes decorations.\n",
      "  plt.tight_layout()\n"
     ]
    },
    {
     "name": "stdout",
     "output_type": "stream",
     "text": [
      "Processing wdbc_test_mcart_fold=7_depth=3...\n",
      "Processing wine_test_mcart_fold=10_depth=8...\n"
     ]
    },
    {
     "name": "stderr",
     "output_type": "stream",
     "text": [
      "/var/folders/yb/pgxzqswx3ls408fy2w7vlkmw0000gn/T/ipykernel_4755/3955102736.py:90: UserWarning: Tight layout not applied. The left and right margins cannot be made large enough to accommodate all axes decorations.\n",
      "  plt.tight_layout()\n"
     ]
    },
    {
     "name": "stdout",
     "output_type": "stream",
     "text": [
      "Processing wine_test_mcart_fold=3_depth=6...\n"
     ]
    },
    {
     "name": "stderr",
     "output_type": "stream",
     "text": [
      "/var/folders/yb/pgxzqswx3ls408fy2w7vlkmw0000gn/T/ipykernel_4755/3955102736.py:90: UserWarning: Tight layout not applied. The left and right margins cannot be made large enough to accommodate all axes decorations.\n",
      "  plt.tight_layout()\n"
     ]
    },
    {
     "name": "stdout",
     "output_type": "stream",
     "text": [
      "Processing titanic_test_mcart_fold=4_depth=4...\n"
     ]
    },
    {
     "name": "stderr",
     "output_type": "stream",
     "text": [
      "/var/folders/yb/pgxzqswx3ls408fy2w7vlkmw0000gn/T/ipykernel_4755/3955102736.py:90: UserWarning: Tight layout not applied. The left and right margins cannot be made large enough to accommodate all axes decorations.\n",
      "  plt.tight_layout()\n"
     ]
    },
    {
     "name": "stdout",
     "output_type": "stream",
     "text": [
      "Processing wine_test_mcart_fold=5_depth=8...\n"
     ]
    },
    {
     "name": "stderr",
     "output_type": "stream",
     "text": [
      "/var/folders/yb/pgxzqswx3ls408fy2w7vlkmw0000gn/T/ipykernel_4755/3955102736.py:90: UserWarning: Tight layout not applied. The left and right margins cannot be made large enough to accommodate all axes decorations.\n",
      "  plt.tight_layout()\n"
     ]
    },
    {
     "name": "stdout",
     "output_type": "stream",
     "text": [
      "Processing wine_test_mcart_fold=2_depth=8...\n"
     ]
    },
    {
     "name": "stderr",
     "output_type": "stream",
     "text": [
      "/var/folders/yb/pgxzqswx3ls408fy2w7vlkmw0000gn/T/ipykernel_4755/3955102736.py:90: UserWarning: Tight layout not applied. The left and right margins cannot be made large enough to accommodate all axes decorations.\n",
      "  plt.tight_layout()\n"
     ]
    },
    {
     "name": "stdout",
     "output_type": "stream",
     "text": [
      "Processing wine_test_mcart_fold=3_depth=5...\n",
      "Processing wine_test_mcart_fold=10_depth=7...\n"
     ]
    },
    {
     "name": "stderr",
     "output_type": "stream",
     "text": [
      "/var/folders/yb/pgxzqswx3ls408fy2w7vlkmw0000gn/T/ipykernel_4755/3955102736.py:90: UserWarning: Tight layout not applied. The left and right margins cannot be made large enough to accommodate all axes decorations.\n",
      "  plt.tight_layout()\n",
      "/var/folders/yb/pgxzqswx3ls408fy2w7vlkmw0000gn/T/ipykernel_4755/3955102736.py:90: UserWarning: Tight layout not applied. The left and right margins cannot be made large enough to accommodate all axes decorations.\n",
      "  plt.tight_layout()\n",
      "/var/folders/yb/pgxzqswx3ls408fy2w7vlkmw0000gn/T/ipykernel_4755/3955102736.py:90: UserWarning: Tight layout not applied. The left and right margins cannot be made large enough to accommodate all axes decorations.\n",
      "  plt.tight_layout()\n"
     ]
    },
    {
     "name": "stdout",
     "output_type": "stream",
     "text": [
      "Processing wine_test_mcart_fold=5_depth=4...\n",
      "Processing wine_test_mcart_fold=6_depth=6...\n"
     ]
    },
    {
     "name": "stderr",
     "output_type": "stream",
     "text": [
      "/var/folders/yb/pgxzqswx3ls408fy2w7vlkmw0000gn/T/ipykernel_4755/3955102736.py:90: UserWarning: Tight layout not applied. The left and right margins cannot be made large enough to accommodate all axes decorations.\n",
      "  plt.tight_layout()\n",
      "/var/folders/yb/pgxzqswx3ls408fy2w7vlkmw0000gn/T/ipykernel_4755/3955102736.py:90: UserWarning: Tight layout not applied. The left and right margins cannot be made large enough to accommodate all axes decorations.\n",
      "  plt.tight_layout()\n"
     ]
    },
    {
     "name": "stdout",
     "output_type": "stream",
     "text": [
      "Processing wdbc_test_mcart_fold=3_depth=3...\n",
      "Processing wine_test_mcart_fold=3_depth=8...\n"
     ]
    },
    {
     "name": "stderr",
     "output_type": "stream",
     "text": [
      "/var/folders/yb/pgxzqswx3ls408fy2w7vlkmw0000gn/T/ipykernel_4755/3955102736.py:90: UserWarning: Tight layout not applied. The left and right margins cannot be made large enough to accommodate all axes decorations.\n",
      "  plt.tight_layout()\n"
     ]
    },
    {
     "name": "stdout",
     "output_type": "stream",
     "text": [
      "Processing wine_test_mcart_fold=6_depth=7...\n"
     ]
    },
    {
     "name": "stderr",
     "output_type": "stream",
     "text": [
      "/var/folders/yb/pgxzqswx3ls408fy2w7vlkmw0000gn/T/ipykernel_4755/3955102736.py:90: UserWarning: Tight layout not applied. The left and right margins cannot be made large enough to accommodate all axes decorations.\n",
      "  plt.tight_layout()\n"
     ]
    },
    {
     "name": "stdout",
     "output_type": "stream",
     "text": [
      "Processing wine_test_mcart_fold=2_depth=5...\n",
      "Processing wine_test_mcart_fold=5_depth=5...\n"
     ]
    },
    {
     "name": "stderr",
     "output_type": "stream",
     "text": [
      "/var/folders/yb/pgxzqswx3ls408fy2w7vlkmw0000gn/T/ipykernel_4755/3955102736.py:90: UserWarning: Tight layout not applied. The left and right margins cannot be made large enough to accommodate all axes decorations.\n",
      "  plt.tight_layout()\n",
      "/var/folders/yb/pgxzqswx3ls408fy2w7vlkmw0000gn/T/ipykernel_4755/3955102736.py:90: UserWarning: Tight layout not applied. The left and right margins cannot be made large enough to accommodate all axes decorations.\n",
      "  plt.tight_layout()\n"
     ]
    },
    {
     "name": "stdout",
     "output_type": "stream",
     "text": [
      "Processing wine_test_mcart_fold=10_depth=6...\n",
      "Processing wdbc_test_mcart_fold=3_depth=4...\n"
     ]
    },
    {
     "name": "stderr",
     "output_type": "stream",
     "text": [
      "/var/folders/yb/pgxzqswx3ls408fy2w7vlkmw0000gn/T/ipykernel_4755/3955102736.py:90: UserWarning: Tight layout not applied. The left and right margins cannot be made large enough to accommodate all axes decorations.\n",
      "  plt.tight_layout()\n",
      "/var/folders/yb/pgxzqswx3ls408fy2w7vlkmw0000gn/T/ipykernel_4755/3955102736.py:90: UserWarning: Tight layout not applied. The left and right margins cannot be made large enough to accommodate all axes decorations.\n",
      "  plt.tight_layout()\n"
     ]
    },
    {
     "name": "stdout",
     "output_type": "stream",
     "text": [
      "Processing titanic_test_mcart_fold=1_depth=3...\n",
      "Processing wdbc_test_mcart_fold=3_depth=5...\n"
     ]
    },
    {
     "name": "stderr",
     "output_type": "stream",
     "text": [
      "/var/folders/yb/pgxzqswx3ls408fy2w7vlkmw0000gn/T/ipykernel_4755/3955102736.py:90: UserWarning: Tight layout not applied. The left and right margins cannot be made large enough to accommodate all axes decorations.\n",
      "  plt.tight_layout()\n",
      "/var/folders/yb/pgxzqswx3ls408fy2w7vlkmw0000gn/T/ipykernel_4755/3955102736.py:90: UserWarning: Tight layout not applied. The left and right margins cannot be made large enough to accommodate all axes decorations.\n",
      "  plt.tight_layout()\n"
     ]
    }
   ],
   "source": [
    "\n",
    "\n",
    "def draw_decision_tree(json_path, csv_path, output_path, data_name=None, fold=None, depth=None):\n",
    "    with open(json_path) as f:\n",
    "        raw_tree = json.load(f)\n",
    "\n",
    "    df = pd.read_csv(csv_path)\n",
    "    feature_cols = [str(c) for c in df.columns if c not in (\"y\", \"prediction\")]\n",
    "\n",
    "    tree = {}\n",
    "    for node_id, feature_id in raw_tree:\n",
    "        tree[node_id] = {\n",
    "            \"feature\": str(feature_id + 1), ### for new\n",
    "            \"left\": 2 * node_id,\n",
    "            \"right\": 2 * node_id + 1\n",
    "        }\n",
    "\n",
    "    leaf_stats = defaultdict(lambda: {\"total\": 0, \"misclass\": 0})\n",
    "\n",
    "    def find_leaf(row):\n",
    "        node = 1\n",
    "        while node in tree:\n",
    "            feature = tree[node][\"feature\"]\n",
    "            node = tree[node][\"right\"] if bool(row[feature]) else tree[node][\"left\"]\n",
    "        return node\n",
    "\n",
    "    for _, row in df.iterrows():\n",
    "        leaf = find_leaf(row)\n",
    "        leaf_stats[leaf][\"total\"] += 1\n",
    "        if row[\"y\"] != row[\"prediction\"]:\n",
    "            leaf_stats[leaf][\"misclass\"] += 1\n",
    "\n",
    "    node_texts = {}\n",
    "    for node_id, data in tree.items():\n",
    "        node_texts[node_id] = f\"$Node_{{{node_id}}}$\\n$x_{{{data['feature']}}}=1$\"\n",
    "    for leaf, stats in leaf_stats.items():\n",
    "        node_texts[leaf] = f\"$Node_{{{leaf}}}$\\nMisclass: {stats['misclass']}\\nTotal: {stats['total']}\"\n",
    "\n",
    "    position_map = {}\n",
    "    x_counter = [0]\n",
    "\n",
    "    def layout_recursive(node, depth=0):\n",
    "        if node not in tree:\n",
    "            x = x_counter[0]\n",
    "            position_map[node] = (x, -depth)\n",
    "            x_counter[0] += 1\n",
    "            return x\n",
    "        left_x = layout_recursive(tree[node][\"left\"], depth + 1)\n",
    "        right_x = layout_recursive(tree[node][\"right\"], depth + 1)\n",
    "        x = (left_x + right_x) / 2\n",
    "        position_map[node] = (x, -depth)\n",
    "        return x\n",
    "\n",
    "    layout_recursive(1)\n",
    "\n",
    "    fig, ax = plt.subplots(figsize=(12, 6))\n",
    "    ax.axis(\"off\")\n",
    "\n",
    "    def draw_node(text, x, y, parent_coords=None, color=\"lightblue\"):\n",
    "        ax.text(\n",
    "            x, y, text, ha=\"center\", va=\"center\",\n",
    "            bbox=dict(facecolor=color, edgecolor='black', boxstyle='round,pad=0.5'),\n",
    "            fontsize=9\n",
    "        )\n",
    "        if parent_coords:\n",
    "            ax.plot([parent_coords[0], x], [parent_coords[1], y], color=\"black\")\n",
    "\n",
    "    for node, (x, y) in position_map.items():\n",
    "        parent_id = node // 2 if node != 1 else None\n",
    "        parent_coords = position_map.get(parent_id)\n",
    "        is_leaf = node not in tree\n",
    "        text = node_texts.get(node, f\"$Node_{{{node}}}$\")\n",
    "        color = \"lightgreen\" if is_leaf else \"lightblue\"\n",
    "        draw_node(text, x, y, parent_coords, color)\n",
    "\n",
    "    total_misclass = sum(s[\"misclass\"] for s in leaf_stats.values())\n",
    "    total_rows = sum(s[\"total\"] for s in leaf_stats.values())\n",
    "    accuracy = 1 - (total_misclass / total_rows) if total_rows > 0 else 0\n",
    "\n",
    "    meta_text = f\"Total Misclassification: {total_misclass}\\nAccuracy: {accuracy:.2%}\"\n",
    "    if data_name or fold or depth:\n",
    "        meta_text += f\"\\n\\nDataset: {data_name.replace('mcart','rstg') or ''}\\nFold: {fold or ''}\\nDepth: {depth or ''}\"\n",
    "\n",
    "    ax.text(\n",
    "        0.01, 1.02,  # Top-left corner\n",
    "        meta_text,\n",
    "        ha=\"left\", va=\"top\", transform=ax.transAxes,\n",
    "        fontsize=11,\n",
    "        bbox=dict(facecolor=\"white\", edgecolor=\"black\", boxstyle=\"round,pad=0.5\")\n",
    "    )\n",
    "\n",
    "    plt.tight_layout()\n",
    "    plt.savefig(output_path)\n",
    "    plt.close()\n",
    "\n",
    "# --- Loop Over Files ---\n",
    "for filename in os.listdir(folder):\n",
    "    if filename.endswith(\".json\"):\n",
    "        base_name = filename.replace(\".json\", \"\")\n",
    "        json_path = os.path.join(folder, base_name + \".json\")\n",
    "        csv_path = os.path.join(folder, base_name + \".csv\")\n",
    "        output_path = os.path.join(output_folder, base_name + \".png\")\n",
    "\n",
    "        match = re.match(r\"(.+?)_fold=(\\d+)_depth=(\\d+)\", base_name)\n",
    "        if match:\n",
    "            data_name, fold, depth = match.groups()\n",
    "        else:\n",
    "            data_name = fold = depth = None\n",
    "            print(\"Skipping \", data_name)\n",
    "        if os.path.exists(csv_path):\n",
    "            print(f\"Processing {base_name}...\")\n",
    "            draw_decision_tree(json_path, csv_path, output_path, data_name, fold, depth)\n"
   ]
  },
  {
   "cell_type": "code",
   "execution_count": null,
   "id": "f6af504f-6bb4-4c71-bee7-0ed405337ce1",
   "metadata": {},
   "outputs": [],
   "source": []
  }
 ],
 "metadata": {
  "kernelspec": {
   "display_name": "Python 3 (ipykernel)",
   "language": "python",
   "name": "python3"
  },
  "language_info": {
   "codemirror_mode": {
    "name": "ipython",
    "version": 3
   },
   "file_extension": ".py",
   "mimetype": "text/x-python",
   "name": "python",
   "nbconvert_exporter": "python",
   "pygments_lexer": "ipython3",
   "version": "3.8.18"
  }
 },
 "nbformat": 4,
 "nbformat_minor": 5
}
